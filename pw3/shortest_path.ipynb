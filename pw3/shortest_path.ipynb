{
 "cells": [
  {
   "cell_type": "markdown",
   "metadata": {},
   "source": [
    "## Imports"
   ]
  },
  {
   "cell_type": "code",
   "execution_count": 3,
   "metadata": {},
   "outputs": [],
   "source": [
    "import networkx as nx\n",
    "import matplotlib.pyplot as plt\n",
    "import pandas as pd"
   ]
  },
  {
   "cell_type": "markdown",
   "metadata": {},
   "source": [
    "## Dijkstra's algo"
   ]
  },
  {
   "cell_type": "code",
   "execution_count": 173,
   "metadata": {},
   "outputs": [],
   "source": [
    "def dijkstra(graph, orig, weight):\n",
    "    \"\"\"\n",
    "    Args:\n",
    "        graph: NetworkX DiGraph\n",
    "        orig: str, origin node\n",
    "        weight: str, name of edge attribute containing weight information\n",
    "    Return:\n",
    "        dist: minimum distance to a node\n",
    "        path: path to a node\n",
    "    \"\"\"\n",
    "    def dict_min(d):\n",
    "        val = None\n",
    "        key = None\n",
    "        for k in d.keys():\n",
    "            if not d[k][1] and (val is None or val > d[k][0]):\n",
    "                val = d[k][0]\n",
    "                key = k\n",
    "        return key, val\n",
    "    \n",
    "    \n",
    "    if not isinstance(graph, nx.classes.digraph.DiGraph):\n",
    "        raise AssertionError(\"graph must be of NetworkX DiGraph type\")\n",
    "        \n",
    "    if not isinstance(orig, str):\n",
    "        raise AssertionError(\"orig must be str\")\n",
    "        \n",
    "    if not isinstance(weight, str):\n",
    "        raise AssertionError(\"weight must be str\")\n",
    "    \n",
    "    \n",
    "    nodes = dict()\n",
    "    for n in graph.nodes:\n",
    "        nodes[n] = [float('inf'), False]\n",
    "    nodes[orig] = [0, False]\n",
    "    path = dict()\n",
    "    path[orig] = []\n",
    "    \n",
    "    while True:\n",
    "        current, w = dict_min(nodes)\n",
    "        if current == None:\n",
    "            break\n",
    "        nodes[current][1] = True\n",
    "        for neighbour in graph[current]:\n",
    "            if nodes[neighbour][0] > w + graph.edges[current, neighbour][weight]:\n",
    "                nodes[neighbour][0] = w + graph.edges[current, neighbour][weight]\n",
    "                path[neighbour] = [current]\n",
    "                \n",
    "    for p in path:\n",
    "        while not orig in path[p]:\n",
    "            if len(path[p]) > 0:\n",
    "                path[p].extend(path[path[p][-1]])\n",
    "            else:\n",
    "                break\n",
    "    for p in path:\n",
    "        path[p] = path[p][::-1]\n",
    "        path[p].append(p)\n",
    "        \n",
    "    dist = dict()\n",
    "    for n in nodes:\n",
    "        dist[n] = nodes[n][0]\n",
    "        \n",
    "    return dist, path"
   ]
  },
  {
   "cell_type": "markdown",
   "metadata": {},
   "source": [
    "## Bellman-Ford algo"
   ]
  },
  {
   "cell_type": "code",
   "execution_count": 174,
   "metadata": {},
   "outputs": [],
   "source": [
    "def bellman_ford(graph, orig, weight):\n",
    "    \"\"\"\n",
    "    Args:\n",
    "        graph: NetworkX DiGraph\n",
    "        orig: str, origin node\n",
    "        weight: str, name of edge attribute containing weight information\n",
    "    Returns:\n",
    "        nodes: minimum distance to a node\n",
    "        path: path to a node\n",
    "    \"\"\"\n",
    "    \n",
    "    if not isinstance(graph, nx.classes.digraph.DiGraph):\n",
    "        raise AssertionError(\"graph must be of NetworkX DiGraph type\")\n",
    "        \n",
    "    if not isinstance(orig, str):\n",
    "        raise AssertionError(\"orig must be str\")\n",
    "        \n",
    "    if not isinstance(weight, str):\n",
    "        raise AssertionError(\"weight must be str\")\n",
    "        \n",
    "    nodes = dict()\n",
    "    for n in graph.nodes:\n",
    "        nodes[n] = float('inf')\n",
    "    nodes[orig] = 0\n",
    "    \n",
    "    path = dict()\n",
    "    path[orig] = []\n",
    "        \n",
    "    for _ in range(len(graph.nodes) - 1):\n",
    "        for edge in graph.edges:\n",
    "            if nodes[edge[1]] > nodes[edge[0]] + graph.edges[edge[0], edge[1]][weight]:\n",
    "                nodes[edge[1]] = nodes[edge[0]] + graph.edges[edge][weight]\n",
    "                path[edge[1]] = [edge[0]]\n",
    "        \n",
    "    for _ in range(len(graph.nodes) - 1):\n",
    "        for edge in graph.edges:\n",
    "            old = nodes[edge[1]]\n",
    "            if nodes[edge[1]] > nodes[edge[0]] + graph.edges[edge[0], edge[1]][weight]:\n",
    "                nodes[edge[1]] = nodes[edge[0]] + graph.edges[edge][weight]\n",
    "                path[edge[1]] = [edge[0]]\n",
    "            if nodes[edge[1]]  < old:\n",
    "                nodes[edge[1]] = -float('inf')\n",
    "                \n",
    "    for p in path:\n",
    "        while not orig in path[p]:\n",
    "            if len(path[p]) > 0:\n",
    "                path[p].extend(path[path[p][-1]])\n",
    "            else:\n",
    "                break\n",
    "    for p in path:\n",
    "        path[p] = path[p][::-1]\n",
    "        path[p].append(p)\n",
    "        \n",
    "    return nodes, path"
   ]
  },
  {
   "cell_type": "markdown",
   "metadata": {},
   "source": [
    "## Cities"
   ]
  },
  {
   "cell_type": "code",
   "execution_count": 10,
   "metadata": {},
   "outputs": [],
   "source": [
    "data = pd.read_csv(\"cities_in_az.csv\")\n",
    "graph = nx.from_pandas_edgelist(data, source=\"Origin\", target=\"Destiny\", edge_attr=True, create_using=nx.DiGraph)"
   ]
  },
  {
   "cell_type": "code",
   "execution_count": 172,
   "metadata": {},
   "outputs": [
    {
     "name": "stdout",
     "output_type": "stream",
     "text": [
      "({'Alat': 1.13, 'Baku': 0, 'Shirvan': 1.96, 'Imishli': 3.34, 'Shamakhi': 1.77, 'Kurdamir': 3.16, 'Goychay': 3.19}, {'Baku': ['Baku'], 'Alat': ['Baku', 'Alat'], 'Shamakhi': ['Baku', 'Shamakhi'], 'Shirvan': ['Baku', 'Alat', 'Shirvan'], 'Imishli': ['Baku', 'Alat', 'Shirvan', 'Imishli'], 'Goychay': ['Baku', 'Shamakhi', 'Goychay'], 'Kurdamir': ['Baku', 'Alat', 'Shirvan', 'Kurdamir']})\n"
     ]
    }
   ],
   "source": [
    "print(dijkstra(graph, \"Baku\", \"Hours\"))"
   ]
  },
  {
   "cell_type": "code",
   "execution_count": 176,
   "metadata": {},
   "outputs": [
    {
     "name": "stdout",
     "output_type": "stream",
     "text": [
      "({'Alat': 1.13, 'Baku': 0, 'Shirvan': 1.96, 'Imishli': 3.34, 'Shamakhi': 1.77, 'Kurdamir': 3.16, 'Goychay': 3.19}, {'Baku': ['Baku'], 'Alat': ['Baku', 'Alat'], 'Shamakhi': ['Baku', 'Shamakhi'], 'Imishli': ['Baku', 'Alat', 'Shirvan', 'Imishli'], 'Shirvan': ['Baku', 'Alat', 'Shirvan'], 'Goychay': ['Baku', 'Shamakhi', 'Goychay'], 'Kurdamir': ['Baku', 'Alat', 'Shirvan', 'Kurdamir']})\n"
     ]
    }
   ],
   "source": [
    "print(bellman_ford(graph, \"Baku\", \"Hours\"))"
   ]
  },
  {
   "cell_type": "markdown",
   "metadata": {},
   "source": [
    "## Airports"
   ]
  },
  {
   "cell_type": "code",
   "execution_count": 178,
   "metadata": {},
   "outputs": [],
   "source": [
    "data = pd.read_csv(\"airports.csv\")\n",
    "graph = nx.from_pandas_edgelist(data, source=\"Origin\", target=\"Dest\", edge_attr=True, create_using=nx.DiGraph)"
   ]
  },
  {
   "cell_type": "code",
   "execution_count": 188,
   "metadata": {},
   "outputs": [
    {
     "name": "stdout",
     "output_type": "stream",
     "text": [
      "({'IAD': 0, 'TPA': 810, 'IND': 739, 'BWI': 1188, 'JAX': 990, 'LAS': 2066, 'MCI': 982, 'MCO': 758, 'MDW': 577, 'PHX': 2021, 'ISP': 1342, 'FLL': 936, 'PBI': 984, 'RSW': 891, 'JAN': 1243, 'HOU': 1514, 'BHM': 1147, 'BNA': 972, 'ORF': 1281, 'PHL': 1245, 'ABQ': 1698, 'ALB': 1294, 'AMA': 1698, 'AUS': 1549, 'BDL': 1354, 'BOI': 2126, 'BUF': 1045, 'BUR': 2289, 'CLE': 884, 'CMH': 861, 'DEN': 1472, 'ELP': 1921, 'GEG': 2381, 'LAX': 2302, 'LBB': 1667, 'LIT': 1121, 'MAF': 1693, 'MHT': 1415, 'MSY': 1297, 'OAK': 2421, 'OKC': 1290, 'OMA': 1000, 'ONT': 2263, 'PDX': 2328, 'PIT': 979, 'PVD': 1419, 'RDU': 1209, 'RNO': 2257, 'SAN': 2305, 'SAT': 1613, 'SDF': 848, 'SEA': 2310, 'SFO': 2432, 'SJC': 2415, 'SLC': 1835, 'SMF': 2367, 'SNA': 2292, 'STL': 828, 'TUL': 1179, 'TUS': 2017, 'DAL': 1374, 'DTW': 806, 'HRL': 1790, 'CRP': 1701}, {'IAD': ['IAD'], 'TPA': ['IAD', 'TPA'], 'LAS': ['IAD', 'LAS'], 'MCO': ['IAD', 'MCO'], 'MDW': ['IAD', 'MDW'], 'ABQ': ['IAD', 'MDW', 'ABQ'], 'ALB': ['IAD', 'MDW', 'ALB'], 'AUS': ['IAD', 'MDW', 'AUS'], 'BDL': ['IAD', 'MDW', 'BDL'], 'BHM': ['IAD', 'MDW', 'BHM'], 'BNA': ['IAD', 'MDW', 'BNA'], 'BUF': ['IAD', 'MDW', 'BUF'], 'BWI': ['IAD', 'MDW', 'BWI'], 'CLE': ['IAD', 'MDW', 'CLE'], 'CMH': ['IAD', 'MDW', 'CMH'], 'DEN': ['IAD', 'MDW', 'DEN'], 'DTW': ['IAD', 'MDW', 'DTW'], 'FLL': ['IAD', 'MCO', 'FLL'], 'HOU': ['IAD', 'MDW', 'HOU'], 'IND': ['IAD', 'MDW', 'IND'], 'ISP': ['IAD', 'MDW', 'ISP'], 'JAN': ['IAD', 'MDW', 'JAN'], 'LAX': ['IAD', 'LAS', 'LAX'], 'LIT': ['IAD', 'MDW', 'LIT'], 'MCI': ['IAD', 'MDW', 'MCI'], 'MHT': ['IAD', 'MDW', 'MHT'], 'MSY': ['IAD', 'TPA', 'MSY'], 'OAK': ['IAD', 'MDW', 'OAK'], 'OMA': ['IAD', 'MDW', 'OMA'], 'ORF': ['IAD', 'MDW', 'ORF'], 'PDX': ['IAD', 'MDW', 'PDX'], 'PHL': ['IAD', 'MDW', 'PHL'], 'PHX': ['IAD', 'MDW', 'PHX'], 'PIT': ['IAD', 'MDW', 'PIT'], 'PVD': ['IAD', 'MDW', 'PVD'], 'RDU': ['IAD', 'MDW', 'RDU'], 'RNO': ['IAD', 'MDW', 'RNO'], 'RSW': ['IAD', 'MCO', 'RSW'], 'SAN': ['IAD', 'MDW', 'SAN'], 'SAT': ['IAD', 'MDW', 'SAT'], 'SDF': ['IAD', 'MDW', 'SDF'], 'SEA': ['IAD', 'MDW', 'SEA'], 'SFO': ['IAD', 'MDW', 'SFO'], 'SJC': ['IAD', 'MDW', 'SJC'], 'SLC': ['IAD', 'MDW', 'SLC'], 'SMF': ['IAD', 'MDW', 'SMF'], 'STL': ['IAD', 'MDW', 'STL'], 'TUS': ['IAD', 'MDW', 'TUS'], 'JAX': ['IAD', 'TPA', 'JAX'], 'PBI': ['IAD', 'TPA', 'PBI'], 'DAL': ['IAD', 'MDW', 'STL', 'DAL'], 'OKC': ['IAD', 'MDW', 'STL', 'OKC'], 'TUL': ['IAD', 'MDW', 'STL', 'TUL'], 'ONT': ['IAD', 'LAS', 'ONT'], 'AMA': ['IAD', 'MDW', 'STL', 'DAL', 'AMA'], 'ELP': ['IAD', 'MDW', 'ABQ', 'ELP'], 'LBB': ['IAD', 'MDW', 'STL', 'DAL', 'LBB'], 'MAF': ['IAD', 'MDW', 'STL', 'DAL', 'MAF'], 'CRP': ['IAD', 'MDW', 'HOU', 'CRP'], 'HRL': ['IAD', 'MDW', 'HOU', 'HRL'], 'BOI': ['IAD', 'MDW', 'SLC', 'BOI'], 'GEG': ['IAD', 'MDW', 'SLC', 'GEG'], 'BUR': ['IAD', 'LAS', 'BUR'], 'SNA': ['IAD', 'LAS', 'SNA']})\n",
      "CPU times: user 2.22 ms, sys: 0 ns, total: 2.22 ms\n",
      "Wall time: 2.12 ms\n"
     ]
    }
   ],
   "source": [
    "%%time\n",
    "print(dijkstra(graph, \"IAD\", \"Distance\"))"
   ]
  },
  {
   "cell_type": "code",
   "execution_count": 189,
   "metadata": {},
   "outputs": [
    {
     "name": "stdout",
     "output_type": "stream",
     "text": [
      "({'IAD': 0, 'TPA': 810, 'IND': 739, 'BWI': 1188, 'JAX': 990, 'LAS': 2066, 'MCI': 982, 'MCO': 758, 'MDW': 577, 'PHX': 2021, 'ISP': 1342, 'FLL': 936, 'PBI': 984, 'RSW': 891, 'JAN': 1243, 'HOU': 1514, 'BHM': 1147, 'BNA': 972, 'ORF': 1281, 'PHL': 1245, 'ABQ': 1698, 'ALB': 1294, 'AMA': 1698, 'AUS': 1549, 'BDL': 1354, 'BOI': 2126, 'BUF': 1045, 'BUR': 2289, 'CLE': 884, 'CMH': 861, 'DEN': 1472, 'ELP': 1921, 'GEG': 2381, 'LAX': 2302, 'LBB': 1667, 'LIT': 1121, 'MAF': 1693, 'MHT': 1415, 'MSY': 1297, 'OAK': 2421, 'OKC': 1290, 'OMA': 1000, 'ONT': 2263, 'PDX': 2328, 'PIT': 979, 'PVD': 1419, 'RDU': 1209, 'RNO': 2257, 'SAN': 2305, 'SAT': 1613, 'SDF': 848, 'SEA': 2310, 'SFO': 2432, 'SJC': 2415, 'SLC': 1835, 'SMF': 2367, 'SNA': 2292, 'STL': 828, 'TUL': 1179, 'TUS': 2017, 'DAL': 1374, 'DTW': 806, 'HRL': 1790, 'CRP': 1701}, {'IAD': ['IAD'], 'TPA': ['IAD', 'TPA'], 'LAS': ['IAD', 'LAS'], 'MCO': ['IAD', 'MCO'], 'MDW': ['IAD', 'MDW'], 'ABQ': ['IAD', 'MDW', 'ABQ'], 'ALB': ['IAD', 'MDW', 'ALB'], 'AUS': ['IAD', 'MDW', 'AUS'], 'BDL': ['IAD', 'MDW', 'BDL'], 'BHM': ['IAD', 'MDW', 'BHM'], 'BNA': ['IAD', 'MDW', 'BNA'], 'BUF': ['IAD', 'MDW', 'BUF'], 'BWI': ['IAD', 'MDW', 'BWI'], 'CMH': ['IAD', 'MDW', 'CMH'], 'DEN': ['IAD', 'MDW', 'DEN'], 'FLL': ['IAD', 'MCO', 'FLL'], 'HOU': ['IAD', 'MDW', 'HOU'], 'IND': ['IAD', 'MDW', 'IND'], 'ISP': ['IAD', 'MDW', 'ISP'], 'JAX': ['IAD', 'TPA', 'JAX'], 'MCI': ['IAD', 'MDW', 'MCI'], 'MHT': ['IAD', 'MDW', 'MHT'], 'MSY': ['IAD', 'TPA', 'MSY'], 'ORF': ['IAD', 'MDW', 'ORF'], 'PBI': ['IAD', 'TPA', 'PBI'], 'PHL': ['IAD', 'MDW', 'PHL'], 'PHX': ['IAD', 'MDW', 'PHX'], 'PIT': ['IAD', 'MDW', 'PIT'], 'PVD': ['IAD', 'MDW', 'PVD'], 'RDU': ['IAD', 'MDW', 'RDU'], 'SAT': ['IAD', 'MDW', 'SAT'], 'SDF': ['IAD', 'MDW', 'SDF'], 'STL': ['IAD', 'MDW', 'STL'], 'CLE': ['IAD', 'MDW', 'CLE'], 'DTW': ['IAD', 'MDW', 'DTW'], 'JAN': ['IAD', 'MDW', 'JAN'], 'LIT': ['IAD', 'MDW', 'LIT'], 'OKC': ['IAD', 'MDW', 'STL', 'OKC'], 'RSW': ['IAD', 'MCO', 'RSW'], 'SAN': ['IAD', 'MDW', 'SAN'], 'SLC': ['IAD', 'MDW', 'SLC'], 'AMA': ['IAD', 'MDW', 'STL', 'DAL', 'AMA'], 'BOI': ['IAD', 'MDW', 'SLC', 'BOI'], 'BUR': ['IAD', 'LAS', 'BUR'], 'ELP': ['IAD', 'MDW', 'ABQ', 'ELP'], 'GEG': ['IAD', 'MDW', 'SLC', 'GEG'], 'LAX': ['IAD', 'LAS', 'LAX'], 'LBB': ['IAD', 'MDW', 'STL', 'DAL', 'LBB'], 'MAF': ['IAD', 'MDW', 'STL', 'DAL', 'MAF'], 'OAK': ['IAD', 'MDW', 'OAK'], 'OMA': ['IAD', 'MDW', 'OMA'], 'ONT': ['IAD', 'LAS', 'ONT'], 'PDX': ['IAD', 'MDW', 'PDX'], 'RNO': ['IAD', 'MDW', 'RNO'], 'SEA': ['IAD', 'MDW', 'SEA'], 'SFO': ['IAD', 'MDW', 'SFO'], 'SJC': ['IAD', 'MDW', 'SJC'], 'SMF': ['IAD', 'MDW', 'SMF'], 'SNA': ['IAD', 'LAS', 'SNA'], 'TUL': ['IAD', 'MDW', 'STL', 'TUL'], 'TUS': ['IAD', 'MDW', 'TUS'], 'DAL': ['IAD', 'MDW', 'STL', 'DAL'], 'CRP': ['IAD', 'MDW', 'HOU', 'CRP'], 'HRL': ['IAD', 'MDW', 'HOU', 'HRL']})\n",
      "CPU times: user 174 ms, sys: 0 ns, total: 174 ms\n",
      "Wall time: 172 ms\n"
     ]
    }
   ],
   "source": [
    "%%time\n",
    "print(bellman_ford(graph, \"IAD\", \"Distance\"))"
   ]
  },
  {
   "cell_type": "markdown",
   "metadata": {},
   "source": [
    "Difference in time is **HUGE** (Dijkstra's algo is 81 times faster)"
   ]
  },
  {
   "cell_type": "code",
   "execution_count": 190,
   "metadata": {},
   "outputs": [
    {
     "name": "stdout",
     "output_type": "stream",
     "text": [
      "({'IAD': 0, 'TPA': 128.0, 'IND': 138.0, 'BWI': 181.0, 'JAX': 164.0, 'LAS': 291.0, 'MCI': 173.0, 'MCO': 125.0, 'MDW': 102.0, 'PHX': 293.0, 'ISP': 195.0, 'FLL': 162.0, 'PBI': 161.0, 'RSW': 153.0, 'JAN': 201.0, 'HOU': 243.0, 'BHM': 189.0, 'BNA': 163.0, 'ORF': 196.0, 'PHL': 204.0, 'ABQ': 259.0, 'ALB': 184.0, 'AMA': 273.0, 'AUS': 255.0, 'BDL': 197.0, 'BOI': 320.0, 'BUF': 166.0, 'BUR': 331.0, 'CLE': 149.0, 'CMH': 149.0, 'DEN': 225.0, 'ELP': 295.0, 'GEG': 358.0, 'LAX': 323.0, 'LBB': 297.0, 'LIT': 194.0, 'MAF': 294.0, 'MHT': 195.0, 'MSY': 206.0, 'OAK': 337.0, 'OKC': 227.0, 'OMA': 171.0, 'ONT': 323.0, 'PDX': 331.0, 'PIT': 156.0, 'PVD': 199.0, 'RDU': 188.0, 'RNO': 313.0, 'SAN': 321.0, 'SAT': 264.0, 'SDF': 152.0, 'SEA': 327.0, 'SFO': 343.0, 'SJC': 339.0, 'SLC': 272.0, 'SMF': 327.0, 'SNA': 327.0, 'STL': 152.0, 'TUL': 214.0, 'TUS': 294.0, 'DAL': 243.0, 'DTW': 153.0, 'HRL': 296.0, 'CRP': inf}, {'IAD': ['IAD'], 'TPA': ['IAD', 'TPA'], 'LAS': ['IAD', 'MDW', 'LAS'], 'MCO': ['IAD', 'MCO'], 'MDW': ['IAD', 'MDW'], 'ABQ': ['IAD', 'MDW', 'ABQ'], 'ALB': ['IAD', 'MDW', 'ALB'], 'AUS': ['IAD', 'MDW', 'AUS'], 'BDL': ['IAD', 'MDW', 'BDL'], 'BHM': ['IAD', 'MDW', 'BHM'], 'BNA': ['IAD', 'MDW', 'BNA'], 'BUF': ['IAD', 'MDW', 'BUF'], 'BWI': ['IAD', 'MDW', 'BWI'], 'CLE': ['IAD', 'MDW', 'CLE'], 'CMH': ['IAD', 'MDW', 'CMH'], 'DEN': ['IAD', 'MDW', 'DEN'], 'DTW': ['IAD', 'MDW', 'DTW'], 'FLL': ['IAD', 'TPA', 'FLL'], 'HOU': ['IAD', 'MDW', 'HOU'], 'IND': ['IAD', 'MDW', 'IND'], 'ISP': ['IAD', 'MDW', 'ISP'], 'JAN': ['IAD', 'MDW', 'JAN'], 'LAX': ['IAD', 'MDW', 'LAX'], 'LIT': ['IAD', 'MDW', 'LIT'], 'MCI': ['IAD', 'MDW', 'MCI'], 'MHT': ['IAD', 'MDW', 'MHT'], 'MSY': ['IAD', 'TPA', 'MSY'], 'OAK': ['IAD', 'MDW', 'OAK'], 'OMA': ['IAD', 'MDW', 'OMA'], 'ORF': ['IAD', 'MDW', 'ORF'], 'PDX': ['IAD', 'MDW', 'PDX'], 'PHL': ['IAD', 'MDW', 'CMH', 'PHL'], 'PHX': ['IAD', 'MDW', 'PHX'], 'PIT': ['IAD', 'MDW', 'PIT'], 'PVD': ['IAD', 'MDW', 'PVD'], 'RDU': ['IAD', 'MDW', 'RDU'], 'RNO': ['IAD', 'MDW', 'RNO'], 'RSW': ['IAD', 'MCO', 'RSW'], 'SAN': ['IAD', 'MDW', 'SAN'], 'SAT': ['IAD', 'MDW', 'SAT'], 'SDF': ['IAD', 'MDW', 'SDF'], 'SEA': ['IAD', 'MDW', 'SEA'], 'SFO': ['IAD', 'MDW', 'SFO'], 'SJC': ['IAD', 'MDW', 'SJC'], 'SLC': ['IAD', 'MDW', 'SLC'], 'SMF': ['IAD', 'MDW', 'SMF'], 'STL': ['IAD', 'MDW', 'STL'], 'TUS': ['IAD', 'MDW', 'TUS'], 'JAX': ['IAD', 'TPA', 'JAX'], 'PBI': ['IAD', 'TPA', 'PBI'], 'DAL': ['IAD', 'MDW', 'STL', 'DAL'], 'OKC': ['IAD', 'MDW', 'MCI', 'OKC'], 'TUL': ['IAD', 'MDW', 'STL', 'TUL'], 'ONT': ['IAD', 'MDW', 'LAS', 'ONT'], 'AMA': ['IAD', 'MDW', 'DEN', 'AMA'], 'ELP': ['IAD', 'MDW', 'ABQ', 'ELP'], 'HRL': ['IAD', 'MDW', 'HOU', 'HRL'], 'MAF': ['IAD', 'MDW', 'STL', 'DAL', 'MAF'], 'LBB': ['IAD', 'MDW', 'STL', 'DAL', 'LBB'], 'BOI': ['IAD', 'MDW', 'SLC', 'BOI'], 'GEG': ['IAD', 'MDW', 'SLC', 'GEG'], 'BUR': ['IAD', 'MDW', 'LAS', 'BUR'], 'SNA': ['IAD', 'MDW', 'LAS', 'SNA']})\n",
      "CPU times: user 2.76 ms, sys: 0 ns, total: 2.76 ms\n",
      "Wall time: 2.72 ms\n"
     ]
    }
   ],
   "source": [
    "%%time\n",
    "print(dijkstra(graph, \"IAD\", \"AirTime\"))"
   ]
  },
  {
   "cell_type": "code",
   "execution_count": 191,
   "metadata": {},
   "outputs": [
    {
     "name": "stdout",
     "output_type": "stream",
     "text": [
      "({'IAD': 0, 'TPA': 128.0, 'IND': 138.0, 'BWI': 181.0, 'JAX': 164.0, 'LAS': 291.0, 'MCI': 173.0, 'MCO': 125.0, 'MDW': 102.0, 'PHX': 293.0, 'ISP': 195.0, 'FLL': 162.0, 'PBI': 161.0, 'RSW': 153.0, 'JAN': 201.0, 'HOU': 243.0, 'BHM': 189.0, 'BNA': 163.0, 'ORF': 196.0, 'PHL': 204.0, 'ABQ': 259.0, 'ALB': 184.0, 'AMA': 273.0, 'AUS': 255.0, 'BDL': 197.0, 'BOI': 320.0, 'BUF': 166.0, 'BUR': 331.0, 'CLE': 149.0, 'CMH': 149.0, 'DEN': 225.0, 'ELP': 295.0, 'GEG': 358.0, 'LAX': 323.0, 'LBB': 297.0, 'LIT': 194.0, 'MAF': 294.0, 'MHT': 195.0, 'MSY': 206.0, 'OAK': 337.0, 'OKC': 227.0, 'OMA': 171.0, 'ONT': 323.0, 'PDX': 331.0, 'PIT': 156.0, 'PVD': 199.0, 'RDU': 188.0, 'RNO': 313.0, 'SAN': 321.0, 'SAT': 264.0, 'SDF': 152.0, 'SEA': 327.0, 'SFO': 343.0, 'SJC': 339.0, 'SLC': 272.0, 'SMF': 327.0, 'SNA': 327.0, 'STL': 152.0, 'TUL': 214.0, 'TUS': 294.0, 'DAL': 243.0, 'DTW': 153.0, 'HRL': 296.0, 'CRP': inf}, {'IAD': ['IAD'], 'TPA': ['IAD', 'TPA'], 'LAS': ['IAD', 'MDW', 'LAS'], 'MCO': ['IAD', 'MCO'], 'MDW': ['IAD', 'MDW'], 'ABQ': ['IAD', 'MDW', 'ABQ'], 'ALB': ['IAD', 'MDW', 'ALB'], 'AUS': ['IAD', 'MDW', 'AUS'], 'BDL': ['IAD', 'MDW', 'BDL'], 'BHM': ['IAD', 'MDW', 'BHM'], 'BNA': ['IAD', 'MDW', 'BNA'], 'BUF': ['IAD', 'MDW', 'BUF'], 'BWI': ['IAD', 'MDW', 'BWI'], 'CMH': ['IAD', 'MDW', 'CMH'], 'DEN': ['IAD', 'MDW', 'DEN'], 'FLL': ['IAD', 'TPA', 'FLL'], 'HOU': ['IAD', 'MDW', 'HOU'], 'IND': ['IAD', 'MDW', 'IND'], 'ISP': ['IAD', 'MDW', 'ISP'], 'JAX': ['IAD', 'TPA', 'JAX'], 'MCI': ['IAD', 'MDW', 'MCI'], 'MHT': ['IAD', 'MDW', 'MHT'], 'MSY': ['IAD', 'TPA', 'MSY'], 'ORF': ['IAD', 'MDW', 'ORF'], 'PBI': ['IAD', 'TPA', 'PBI'], 'PHL': ['IAD', 'MDW', 'CMH', 'PHL'], 'PHX': ['IAD', 'MDW', 'PHX'], 'PIT': ['IAD', 'MDW', 'PIT'], 'PVD': ['IAD', 'MDW', 'PVD'], 'RDU': ['IAD', 'MDW', 'RDU'], 'SAT': ['IAD', 'MDW', 'SAT'], 'SDF': ['IAD', 'MDW', 'SDF'], 'STL': ['IAD', 'MDW', 'STL'], 'CLE': ['IAD', 'MDW', 'CLE'], 'DTW': ['IAD', 'MDW', 'DTW'], 'JAN': ['IAD', 'MDW', 'JAN'], 'LIT': ['IAD', 'MDW', 'LIT'], 'OKC': ['IAD', 'MDW', 'MCI', 'OKC'], 'RSW': ['IAD', 'MCO', 'RSW'], 'SAN': ['IAD', 'MDW', 'SAN'], 'SLC': ['IAD', 'MDW', 'SLC'], 'AMA': ['IAD', 'MDW', 'DEN', 'AMA'], 'BOI': ['IAD', 'MDW', 'SLC', 'BOI'], 'BUR': ['IAD', 'MDW', 'LAS', 'BUR'], 'ELP': ['IAD', 'MDW', 'ABQ', 'ELP'], 'GEG': ['IAD', 'MDW', 'SLC', 'GEG'], 'LAX': ['IAD', 'MDW', 'LAX'], 'LBB': ['IAD', 'MDW', 'STL', 'DAL', 'LBB'], 'MAF': ['IAD', 'MDW', 'STL', 'DAL', 'MAF'], 'OAK': ['IAD', 'MDW', 'OAK'], 'OMA': ['IAD', 'MDW', 'OMA'], 'ONT': ['IAD', 'MDW', 'LAS', 'ONT'], 'PDX': ['IAD', 'MDW', 'PDX'], 'RNO': ['IAD', 'MDW', 'RNO'], 'SEA': ['IAD', 'MDW', 'SEA'], 'SFO': ['IAD', 'MDW', 'SFO'], 'SJC': ['IAD', 'MDW', 'SJC'], 'SMF': ['IAD', 'MDW', 'SMF'], 'SNA': ['IAD', 'MDW', 'LAS', 'SNA'], 'TUL': ['IAD', 'MDW', 'STL', 'TUL'], 'TUS': ['IAD', 'MDW', 'TUS'], 'DAL': ['IAD', 'MDW', 'STL', 'DAL'], 'HRL': ['IAD', 'MDW', 'HOU', 'HRL']})\n",
      "CPU times: user 172 ms, sys: 0 ns, total: 172 ms\n",
      "Wall time: 169 ms\n"
     ]
    }
   ],
   "source": [
    "%%time\n",
    "print(bellman_ford(graph, \"IAD\", \"AirTime\"))"
   ]
  },
  {
   "cell_type": "markdown",
   "metadata": {},
   "source": [
    "Again difference in time is **HUGE** (Dijkstra's algo is 62 times faster)"
   ]
  }
 ],
 "metadata": {
  "kernelspec": {
   "display_name": "Python 3",
   "language": "python",
   "name": "python3"
  },
  "language_info": {
   "codemirror_mode": {
    "name": "ipython",
    "version": 3
   },
   "file_extension": ".py",
   "mimetype": "text/x-python",
   "name": "python",
   "nbconvert_exporter": "python",
   "pygments_lexer": "ipython3",
   "version": "3.6.8"
  }
 },
 "nbformat": 4,
 "nbformat_minor": 2
}
